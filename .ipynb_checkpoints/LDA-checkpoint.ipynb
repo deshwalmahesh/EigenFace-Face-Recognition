{
 "cells": [
  {
   "cell_type": "code",
   "execution_count": 1,
   "metadata": {},
   "outputs": [],
   "source": [
    "import numpy as np\n",
    "import pandas as pd\n",
    "from sklearn.preprocessing import LabelEncoder\n",
    "import matplotlib.pyplot as plt\n",
    "import seaborn as sns\n",
    "from math import sqrt\n",
    "from math import pi\n",
    "from math import exp"
   ]
  },
  {
   "cell_type": "code",
   "execution_count": 2,
   "metadata": {},
   "outputs": [],
   "source": [
    "SEED = 13\n",
    "np.random.seed(SEED)\n",
    "np.set_printoptions(suppress=True)"
   ]
  },
  {
   "cell_type": "code",
   "execution_count": 3,
   "metadata": {},
   "outputs": [],
   "source": [
    "df = pd.read_csv('iris.data',sep=',',header=None, names=['sepal length','sepal width','petal length',\n",
    "                                                         'petal width','class'])"
   ]
  },
  {
   "cell_type": "code",
   "execution_count": 4,
   "metadata": {},
   "outputs": [
    {
     "data": {
      "text/html": [
       "<div>\n",
       "<style scoped>\n",
       "    .dataframe tbody tr th:only-of-type {\n",
       "        vertical-align: middle;\n",
       "    }\n",
       "\n",
       "    .dataframe tbody tr th {\n",
       "        vertical-align: top;\n",
       "    }\n",
       "\n",
       "    .dataframe thead th {\n",
       "        text-align: right;\n",
       "    }\n",
       "</style>\n",
       "<table border=\"1\" class=\"dataframe\">\n",
       "  <thead>\n",
       "    <tr style=\"text-align: right;\">\n",
       "      <th></th>\n",
       "      <th>sepal length</th>\n",
       "      <th>sepal width</th>\n",
       "      <th>petal length</th>\n",
       "      <th>petal width</th>\n",
       "      <th>class</th>\n",
       "    </tr>\n",
       "  </thead>\n",
       "  <tbody>\n",
       "    <tr>\n",
       "      <th>0</th>\n",
       "      <td>5.1</td>\n",
       "      <td>3.5</td>\n",
       "      <td>1.4</td>\n",
       "      <td>0.2</td>\n",
       "      <td>Iris-setosa</td>\n",
       "    </tr>\n",
       "    <tr>\n",
       "      <th>1</th>\n",
       "      <td>4.9</td>\n",
       "      <td>3.0</td>\n",
       "      <td>1.4</td>\n",
       "      <td>0.2</td>\n",
       "      <td>Iris-setosa</td>\n",
       "    </tr>\n",
       "    <tr>\n",
       "      <th>2</th>\n",
       "      <td>4.7</td>\n",
       "      <td>3.2</td>\n",
       "      <td>1.3</td>\n",
       "      <td>0.2</td>\n",
       "      <td>Iris-setosa</td>\n",
       "    </tr>\n",
       "    <tr>\n",
       "      <th>3</th>\n",
       "      <td>4.6</td>\n",
       "      <td>3.1</td>\n",
       "      <td>1.5</td>\n",
       "      <td>0.2</td>\n",
       "      <td>Iris-setosa</td>\n",
       "    </tr>\n",
       "    <tr>\n",
       "      <th>4</th>\n",
       "      <td>5.0</td>\n",
       "      <td>3.6</td>\n",
       "      <td>1.4</td>\n",
       "      <td>0.2</td>\n",
       "      <td>Iris-setosa</td>\n",
       "    </tr>\n",
       "  </tbody>\n",
       "</table>\n",
       "</div>"
      ],
      "text/plain": [
       "   sepal length  sepal width  petal length  petal width        class\n",
       "0           5.1          3.5           1.4          0.2  Iris-setosa\n",
       "1           4.9          3.0           1.4          0.2  Iris-setosa\n",
       "2           4.7          3.2           1.3          0.2  Iris-setosa\n",
       "3           4.6          3.1           1.5          0.2  Iris-setosa\n",
       "4           5.0          3.6           1.4          0.2  Iris-setosa"
      ]
     },
     "execution_count": 4,
     "metadata": {},
     "output_type": "execute_result"
    }
   ],
   "source": [
    "df.head()"
   ]
  },
  {
   "cell_type": "code",
   "execution_count": 5,
   "metadata": {},
   "outputs": [
    {
     "data": {
      "text/plain": [
       "sepal length    0\n",
       "sepal width     0\n",
       "petal length    0\n",
       "petal width     0\n",
       "class           0\n",
       "dtype: int64"
      ]
     },
     "execution_count": 5,
     "metadata": {},
     "output_type": "execute_result"
    }
   ],
   "source": [
    "df.isna().sum()"
   ]
  },
  {
   "cell_type": "code",
   "execution_count": 6,
   "metadata": {},
   "outputs": [
    {
     "data": {
      "text/html": [
       "<div>\n",
       "<style scoped>\n",
       "    .dataframe tbody tr th:only-of-type {\n",
       "        vertical-align: middle;\n",
       "    }\n",
       "\n",
       "    .dataframe tbody tr th {\n",
       "        vertical-align: top;\n",
       "    }\n",
       "\n",
       "    .dataframe thead th {\n",
       "        text-align: right;\n",
       "    }\n",
       "</style>\n",
       "<table border=\"1\" class=\"dataframe\">\n",
       "  <thead>\n",
       "    <tr style=\"text-align: right;\">\n",
       "      <th></th>\n",
       "      <th>sepal length</th>\n",
       "      <th>sepal width</th>\n",
       "      <th>petal length</th>\n",
       "      <th>petal width</th>\n",
       "    </tr>\n",
       "  </thead>\n",
       "  <tbody>\n",
       "    <tr>\n",
       "      <th>count</th>\n",
       "      <td>150.000000</td>\n",
       "      <td>150.000000</td>\n",
       "      <td>150.000000</td>\n",
       "      <td>150.000000</td>\n",
       "    </tr>\n",
       "    <tr>\n",
       "      <th>mean</th>\n",
       "      <td>5.843333</td>\n",
       "      <td>3.054000</td>\n",
       "      <td>3.758667</td>\n",
       "      <td>1.198667</td>\n",
       "    </tr>\n",
       "    <tr>\n",
       "      <th>std</th>\n",
       "      <td>0.828066</td>\n",
       "      <td>0.433594</td>\n",
       "      <td>1.764420</td>\n",
       "      <td>0.763161</td>\n",
       "    </tr>\n",
       "    <tr>\n",
       "      <th>min</th>\n",
       "      <td>4.300000</td>\n",
       "      <td>2.000000</td>\n",
       "      <td>1.000000</td>\n",
       "      <td>0.100000</td>\n",
       "    </tr>\n",
       "    <tr>\n",
       "      <th>25%</th>\n",
       "      <td>5.100000</td>\n",
       "      <td>2.800000</td>\n",
       "      <td>1.600000</td>\n",
       "      <td>0.300000</td>\n",
       "    </tr>\n",
       "    <tr>\n",
       "      <th>50%</th>\n",
       "      <td>5.800000</td>\n",
       "      <td>3.000000</td>\n",
       "      <td>4.350000</td>\n",
       "      <td>1.300000</td>\n",
       "    </tr>\n",
       "    <tr>\n",
       "      <th>75%</th>\n",
       "      <td>6.400000</td>\n",
       "      <td>3.300000</td>\n",
       "      <td>5.100000</td>\n",
       "      <td>1.800000</td>\n",
       "    </tr>\n",
       "    <tr>\n",
       "      <th>max</th>\n",
       "      <td>7.900000</td>\n",
       "      <td>4.400000</td>\n",
       "      <td>6.900000</td>\n",
       "      <td>2.500000</td>\n",
       "    </tr>\n",
       "  </tbody>\n",
       "</table>\n",
       "</div>"
      ],
      "text/plain": [
       "       sepal length  sepal width  petal length  petal width\n",
       "count    150.000000   150.000000    150.000000   150.000000\n",
       "mean       5.843333     3.054000      3.758667     1.198667\n",
       "std        0.828066     0.433594      1.764420     0.763161\n",
       "min        4.300000     2.000000      1.000000     0.100000\n",
       "25%        5.100000     2.800000      1.600000     0.300000\n",
       "50%        5.800000     3.000000      4.350000     1.300000\n",
       "75%        6.400000     3.300000      5.100000     1.800000\n",
       "max        7.900000     4.400000      6.900000     2.500000"
      ]
     },
     "execution_count": 6,
     "metadata": {},
     "output_type": "execute_result"
    }
   ],
   "source": [
    "df.describe()"
   ]
  },
  {
   "cell_type": "code",
   "execution_count": 7,
   "metadata": {},
   "outputs": [],
   "source": [
    "df['class'] = LabelEncoder().fit_transform(df['class'])"
   ]
  },
  {
   "cell_type": "code",
   "execution_count": 8,
   "metadata": {},
   "outputs": [
    {
     "data": {
      "text/html": [
       "<div>\n",
       "<style scoped>\n",
       "    .dataframe tbody tr th:only-of-type {\n",
       "        vertical-align: middle;\n",
       "    }\n",
       "\n",
       "    .dataframe tbody tr th {\n",
       "        vertical-align: top;\n",
       "    }\n",
       "\n",
       "    .dataframe thead th {\n",
       "        text-align: right;\n",
       "    }\n",
       "</style>\n",
       "<table border=\"1\" class=\"dataframe\">\n",
       "  <thead>\n",
       "    <tr style=\"text-align: right;\">\n",
       "      <th></th>\n",
       "      <th>sepal length</th>\n",
       "      <th>sepal width</th>\n",
       "      <th>petal length</th>\n",
       "      <th>petal width</th>\n",
       "      <th>class</th>\n",
       "    </tr>\n",
       "  </thead>\n",
       "  <tbody>\n",
       "    <tr>\n",
       "      <th>55</th>\n",
       "      <td>5.7</td>\n",
       "      <td>2.8</td>\n",
       "      <td>4.5</td>\n",
       "      <td>1.3</td>\n",
       "      <td>1</td>\n",
       "    </tr>\n",
       "    <tr>\n",
       "      <th>64</th>\n",
       "      <td>5.6</td>\n",
       "      <td>2.9</td>\n",
       "      <td>3.6</td>\n",
       "      <td>1.3</td>\n",
       "      <td>1</td>\n",
       "    </tr>\n",
       "    <tr>\n",
       "      <th>21</th>\n",
       "      <td>5.1</td>\n",
       "      <td>3.7</td>\n",
       "      <td>1.5</td>\n",
       "      <td>0.4</td>\n",
       "      <td>0</td>\n",
       "    </tr>\n",
       "    <tr>\n",
       "      <th>101</th>\n",
       "      <td>5.8</td>\n",
       "      <td>2.7</td>\n",
       "      <td>5.1</td>\n",
       "      <td>1.9</td>\n",
       "      <td>2</td>\n",
       "    </tr>\n",
       "    <tr>\n",
       "      <th>112</th>\n",
       "      <td>6.8</td>\n",
       "      <td>3.0</td>\n",
       "      <td>5.5</td>\n",
       "      <td>2.1</td>\n",
       "      <td>2</td>\n",
       "    </tr>\n",
       "  </tbody>\n",
       "</table>\n",
       "</div>"
      ],
      "text/plain": [
       "     sepal length  sepal width  petal length  petal width  class\n",
       "55            5.7          2.8           4.5          1.3      1\n",
       "64            5.6          2.9           3.6          1.3      1\n",
       "21            5.1          3.7           1.5          0.4      0\n",
       "101           5.8          2.7           5.1          1.9      2\n",
       "112           6.8          3.0           5.5          2.1      2"
      ]
     },
     "execution_count": 8,
     "metadata": {},
     "output_type": "execute_result"
    }
   ],
   "source": [
    "df.sample(5,random_state=SEED)"
   ]
  },
  {
   "cell_type": "code",
   "execution_count": 9,
   "metadata": {},
   "outputs": [
    {
     "data": {
      "text/plain": [
       "2    50\n",
       "1    50\n",
       "0    50\n",
       "Name: class, dtype: int64"
      ]
     },
     "execution_count": 9,
     "metadata": {},
     "output_type": "execute_result"
    }
   ],
   "source": [
    "df['class'].value_counts()"
   ]
  },
  {
   "cell_type": "code",
   "execution_count": 10,
   "metadata": {},
   "outputs": [
    {
     "data": {
      "text/plain": [
       "<matplotlib.axes._subplots.AxesSubplot at 0x7fcb9b8531d0>"
      ]
     },
     "execution_count": 10,
     "metadata": {},
     "output_type": "execute_result"
    },
    {
     "data": {
      "image/png": "[encoded data removed]",
      "text/plain": [
       "<Figure size 432x288 with 1 Axes>"
      ]
     },
     "metadata": {
      "needs_background": "light"
     },
     "output_type": "display_data"
    }
   ],
   "source": [
    "sns.countplot(df['class'])"
   ]
  },
  {
   "cell_type": "code",
   "execution_count": 11,
   "metadata": {},
   "outputs": [
    {
     "data": {
      "image/png": "[encoded data removed]",
      "text/plain": [
       "<Figure size 720x504 with 4 Axes>"
      ]
     },
     "metadata": {
      "needs_background": "light"
     },
     "output_type": "display_data"
    }
   ],
   "source": [
    "f,ax = plt.subplots(2,2,figsize=(10,7))\n",
    "ax = ax.flatten()\n",
    "for i in range(4):\n",
    "    sns.distplot(df.iloc[:,i],ax=ax[i])"
   ]
  },
  {
   "cell_type": "markdown",
   "metadata": {},
   "source": [
    "Data is all cleaned and with no NULL values. We won't be perfoming the EDA or preprocessing for this data as we are not building a model just applying the LDA"
   ]
  },
  {
   "cell_type": "code",
   "execution_count": 12,
   "metadata": {},
   "outputs": [],
   "source": [
    "class LDA():\n",
    "    \n",
    "    def __init__(self,df,class_name='class'):\n",
    "        self.df = df\n",
    "        self.class_name = class_name\n",
    "        self.n = df.shape[1]-1\n",
    "    \n",
    "        \n",
    "    def find_class_vise_mean(self):\n",
    "        class_vise_mean = self.df.groupby(self.class_name).mean().T\n",
    "        return class_vise_mean\n",
    "    \n",
    "    \n",
    "    def find_within_class_scatter(self):\n",
    "        class_vise_mean = self.find_class_vise_mean()\n",
    "        within_class_scatter_matrix = np.zeros((self.n,self.n))\n",
    "        for class_, rows in self.df.groupby('class'):\n",
    "            rows = rows.drop([self.class_name], axis=1)\n",
    "            dot_product = np.zeros((self.n,self.n))\n",
    "            class_mean = class_vise_mean[class_].values.reshape(self.n,1)\n",
    "\n",
    "            for index, row in rows.iterrows():\n",
    "                n_th_row = row.values.reshape(self.n,1) \n",
    "                # get all the elements in the columns row-vise that belong to current class in a form of 2-D array\n",
    "                dot_product += (n_th_row - class_mean).dot((n_th_row - class_mean).T)\n",
    "\n",
    "                # for each column element 'X', subtract it's 'own' class mean for all the x_i\n",
    "                # i.e for a row element say 'flower' at index 13, it has 4 ATTRIBUTES corresponding to sepal and \n",
    "                # petal's width and heights and suppose it belongs to class 2. for each ATTRIBUTE in this flower,\n",
    "                # subtract the attribute from the class' mean it belong to i.e class-2 mean because each has\n",
    "                # individual mean for each ATTRIBUTE. Get a Transpose to get a DOT*\n",
    "\n",
    "            within_class_scatter_matrix += dot_product\n",
    "        return within_class_scatter_matrix\n",
    "    \n",
    "    \n",
    "    def find_bw_class_scatter(self):\n",
    "        class_vise_mean = self.find_class_vise_mean()\n",
    "        feature_means = self.df.drop(self.class_name,axis=1).mean() # means of individual features/columns\n",
    "        between_class_scatter_matrix = np.zeros((self.n,self.n))\n",
    "\n",
    "        for class_ in class_vise_mean:    \n",
    "            total_elements_in_class = len(self.df.loc[self.df[self.class_name] == class_].index)\n",
    "\n",
    "            class_m = class_vise_mean[class_].values.reshape(self.n,1)\n",
    "            feat_m = feature_means.values.reshape(self.n,1)\n",
    "            # mean that belongs to current class(0,1,2), mean of individual features(sep_h,pet_l,sep_l....)\n",
    "\n",
    "            between_class_scatter_matrix += total_elements_in_class * (class_m - feat_m).dot((class_m - feat_m).T)\n",
    "        return between_class_scatter_matrix\n",
    "    \n",
    "    \n",
    "    def get_eign_value_vector(self):\n",
    "        within_class_scatter_matrix = self.find_within_class_scatter()\n",
    "        between_class_scatter_matrix = self.find_bw_class_scatter()\n",
    "        eign_values, eign_vectors = np.linalg.eig(np.linalg.inv(within_class_scatter_matrix).\\\n",
    "                                                            dot(between_class_scatter_matrix))\n",
    "        return eign_values,eign_vectors\n",
    "    \n",
    "    \n",
    "    def explained_var(self,display_only=False):\n",
    "        \n",
    "        eign_values,eign_vectors = self.get_eign_value_vector()\n",
    "        eign_value_vector_pair = [(np.abs(eign_values[i]), \n",
    "                               eign_vectors[:,i]) for i in range(len(eign_values))]\n",
    "        eign_value_vector_pair = sorted(eign_value_vector_pair, key=lambda x: x[0], reverse=True)\n",
    "        eign_value_sums = sum(eign_values)\n",
    "        \n",
    "        if display_only:\n",
    "            print('Explained Variance by each EignVector in terms of total info')\n",
    "            for i, pair in enumerate(eign_value_vector_pair):\n",
    "                print('{}: {:.2f}%'.format(i+1, (pair[0]/eign_value_sums).real*100))\n",
    "            return None\n",
    "        else:\n",
    "            return eign_value_vector_pair\n",
    "      \n",
    "        \n",
    "    def get_lda(self):\n",
    "        X = self.df.drop(self.class_name,axis=1).values\n",
    "        eign_value_vector_pair = self.explained_var()\n",
    "        W_matrix = np.hstack((eign_value_vector_pair[0][1].reshape(self.n,1), \n",
    "                      eign_value_vector_pair[1][1].reshape(self.n,1))).real\n",
    "        lda = np.array(X.dot(W_matrix))\n",
    "        return lda\n",
    "    \n",
    "    \n",
    "    def plot(self):\n",
    "        lda = self.get_lda()\n",
    "        plt.xlabel('LD1')\n",
    "        plt.ylabel('LD2')\n",
    "        plt.scatter(lda[:,0],lda[:,1],c=self.df[self.class_name],\n",
    "                    cmap='rainbow',alpha=0.7,edgecolors='b')"
   ]
  },
  {
   "cell_type": "code",
   "execution_count": 13,
   "metadata": {},
   "outputs": [
    {
     "data": {
      "image/png": "[encoded data removed]",
      "text/plain": [
       "<Figure size 432x288 with 1 Axes>"
      ]
     },
     "metadata": {
      "needs_background": "light"
     },
     "output_type": "display_data"
    }
   ],
   "source": [
    "lda = LDA(df)\n",
    "lda.plot()"
   ]
  },
  {
   "cell_type": "code",
   "execution_count": 14,
   "metadata": {},
   "outputs": [],
   "source": [
    "df_lda = pd.DataFrame(LDA(df).get_lda(),columns=['X','Y'])\n",
    "df_lda['class'] = df['class']"
   ]
  },
  {
   "cell_type": "code",
   "execution_count": 23,
   "metadata": {},
   "outputs": [],
   "source": [
    "def segregate_data(df):\n",
    "    segregated = {}\n",
    "    for class_,row in df.groupby('class'):\n",
    "        if class_ not in segregated:\n",
    "            segregated[class_] = []\n",
    "        segregated[class_] = row.values.tolist()\n",
    "    return segregated"
   ]
  },
  {
   "cell_type": "code",
   "execution_count": 24,
   "metadata": {},
   "outputs": [],
   "source": [
    "def col_stats(df):\n",
    "    return df.describe().drop('class',axis=1).T[['mean','std','count']].values.tolist()"
   ]
  },
  {
   "cell_type": "code",
   "execution_count": 25,
   "metadata": {},
   "outputs": [],
   "source": [
    "def stats_by_class(df):\n",
    "    result_df = df.groupby('class').agg(['mean','std','count'])\n",
    "    class_stats = {}\n",
    "    for i in range(df['class'].nunique()):\n",
    "        x = result_df.loc[i].values.tolist()\n",
    "        if i not in class_stats:\n",
    "            class_stats[i] = []\n",
    "        class_stats[i].append(x[:3])\n",
    "        class_stats[i].append(x[3:])\n",
    "    return class_stats"
   ]
  },
  {
   "cell_type": "code",
   "execution_count": 26,
   "metadata": {},
   "outputs": [],
   "source": [
    "def gauss_prob(x,mean,std):\n",
    "    e = exp(-((x-mean)**2 / (2 * std**2 )))\n",
    "    return (1 / (sqrt(2 * pi) * std)) * e"
   ]
  },
  {
   "cell_type": "code",
   "execution_count": 27,
   "metadata": {},
   "outputs": [],
   "source": [
    "def class_prob(per_class_stat, element):\n",
    "    total_rows = sum([per_class_stat[label][0][2] for label in per_class_stat])\n",
    "    probabilities = {}\n",
    "    for class_value, class_summaries in per_class_stat.items():\n",
    "        probabilities[class_value] = per_class_stat[class_value][0][2]/float(total_rows)\n",
    "        for i in range(len(class_summaries)):\n",
    "            mean, std, count = class_summaries[i]\n",
    "            probabilities[class_value] *= gauss_prob(element[i], mean, std)\n",
    "    return probabilities"
   ]
  },
  {
   "cell_type": "code",
   "execution_count": 28,
   "metadata": {},
   "outputs": [],
   "source": [
    "class_stats = stats_by_class(df_lda)\n",
    "result = pd.DataFrame(class_prob(class_stats,df_lda.iloc[0,:2]),index=range(1))\n",
    "for i in range(1,df_lda.shape[0]):\n",
    "    ser = pd.Series(class_prob(class_stats,df_lda.iloc[i,:2]),name=str(i))\n",
    "    result = result.append(ser)"
   ]
  },
  {
   "cell_type": "code",
   "execution_count": 34,
   "metadata": {},
   "outputs": [
    {
     "data": {
      "text/html": [
       "<div>\n",
       "<style scoped>\n",
       "    .dataframe tbody tr th:only-of-type {\n",
       "        vertical-align: middle;\n",
       "    }\n",
       "\n",
       "    .dataframe tbody tr th {\n",
       "        vertical-align: top;\n",
       "    }\n",
       "\n",
       "    .dataframe thead th {\n",
       "        text-align: right;\n",
       "    }\n",
       "</style>\n",
       "<table border=\"1\" class=\"dataframe\">\n",
       "  <thead>\n",
       "    <tr style=\"text-align: right;\">\n",
       "      <th></th>\n",
       "      <th>0</th>\n",
       "      <th>1</th>\n",
       "      <th>2</th>\n",
       "    </tr>\n",
       "  </thead>\n",
       "  <tbody>\n",
       "    <tr>\n",
       "      <th>48</th>\n",
       "      <td>6.050940e-01</td>\n",
       "      <td>3.497164e-22</td>\n",
       "      <td>1.335561e-36</td>\n",
       "    </tr>\n",
       "    <tr>\n",
       "      <th>46</th>\n",
       "      <td>6.872538e-01</td>\n",
       "      <td>2.341378e-21</td>\n",
       "      <td>1.803559e-35</td>\n",
       "    </tr>\n",
       "    <tr>\n",
       "      <th>91</th>\n",
       "      <td>6.368394e-31</td>\n",
       "      <td>7.042280e-01</td>\n",
       "      <td>2.976482e-03</td>\n",
       "    </tr>\n",
       "    <tr>\n",
       "      <th>30</th>\n",
       "      <td>3.639130e-01</td>\n",
       "      <td>9.910352e-16</td>\n",
       "      <td>2.047128e-29</td>\n",
       "    </tr>\n",
       "    <tr>\n",
       "      <th>13</th>\n",
       "      <td>5.635474e-01</td>\n",
       "      <td>1.089838e-18</td>\n",
       "      <td>3.333613e-33</td>\n",
       "    </tr>\n",
       "    <tr>\n",
       "      <th>104</th>\n",
       "      <td>3.178760e-65</td>\n",
       "      <td>1.350193e-06</td>\n",
       "      <td>3.612010e-01</td>\n",
       "    </tr>\n",
       "    <tr>\n",
       "      <th>90</th>\n",
       "      <td>2.757687e-32</td>\n",
       "      <td>4.520624e-01</td>\n",
       "      <td>1.055090e-03</td>\n",
       "    </tr>\n",
       "    <tr>\n",
       "      <th>12</th>\n",
       "      <td>3.820665e-01</td>\n",
       "      <td>8.524231e-18</td>\n",
       "      <td>3.717175e-32</td>\n",
       "    </tr>\n",
       "    <tr>\n",
       "      <th>61</th>\n",
       "      <td>2.524427e-28</td>\n",
       "      <td>4.208713e-01</td>\n",
       "      <td>1.030749e-03</td>\n",
       "    </tr>\n",
       "  </tbody>\n",
       "</table>\n",
       "</div>"
      ],
      "text/plain": [
       "                0             1             2\n",
       "48   6.050940e-01  3.497164e-22  1.335561e-36\n",
       "46   6.872538e-01  2.341378e-21  1.803559e-35\n",
       "91   6.368394e-31  7.042280e-01  2.976482e-03\n",
       "30   3.639130e-01  9.910352e-16  2.047128e-29\n",
       "13   5.635474e-01  1.089838e-18  3.333613e-33\n",
       "104  3.178760e-65  1.350193e-06  3.612010e-01\n",
       "90   2.757687e-32  4.520624e-01  1.055090e-03\n",
       "12   3.820665e-01  8.524231e-18  3.717175e-32\n",
       "61   2.524427e-28  4.208713e-01  1.030749e-03"
      ]
     },
     "execution_count": 34,
     "metadata": {},
     "output_type": "execute_result"
    }
   ],
   "source": [
    "result.sample(9)"
   ]
  },
  {
   "cell_type": "code",
   "execution_count": 31,
   "metadata": {},
   "outputs": [],
   "source": [
    "log_2_result = np.log2(result)"
   ]
  },
  {
   "cell_type": "code",
   "execution_count": 32,
   "metadata": {},
   "outputs": [
    {
     "data": {
      "text/html": [
       "<div>\n",
       "<style scoped>\n",
       "    .dataframe tbody tr th:only-of-type {\n",
       "        vertical-align: middle;\n",
       "    }\n",
       "\n",
       "    .dataframe tbody tr th {\n",
       "        vertical-align: top;\n",
       "    }\n",
       "\n",
       "    .dataframe thead th {\n",
       "        text-align: right;\n",
       "    }\n",
       "</style>\n",
       "<table border=\"1\" class=\"dataframe\">\n",
       "  <thead>\n",
       "    <tr style=\"text-align: right;\">\n",
       "      <th></th>\n",
       "      <th>0</th>\n",
       "      <th>1</th>\n",
       "      <th>2</th>\n",
       "    </tr>\n",
       "  </thead>\n",
       "  <tbody>\n",
       "    <tr>\n",
       "      <th>0</th>\n",
       "      <td>-0.249208</td>\n",
       "      <td>-67.042992</td>\n",
       "      <td>-114.940093</td>\n",
       "    </tr>\n",
       "    <tr>\n",
       "      <th>1</th>\n",
       "      <td>-1.016389</td>\n",
       "      <td>-54.131809</td>\n",
       "      <td>-100.844752</td>\n",
       "    </tr>\n",
       "    <tr>\n",
       "      <th>2</th>\n",
       "      <td>-0.193216</td>\n",
       "      <td>-58.818569</td>\n",
       "      <td>-105.969426</td>\n",
       "    </tr>\n",
       "    <tr>\n",
       "      <th>3</th>\n",
       "      <td>-1.239334</td>\n",
       "      <td>-50.479407</td>\n",
       "      <td>-96.011135</td>\n",
       "    </tr>\n",
       "    <tr>\n",
       "      <th>4</th>\n",
       "      <td>-0.402727</td>\n",
       "      <td>-68.482649</td>\n",
       "      <td>-116.126469</td>\n",
       "    </tr>\n",
       "    <tr>\n",
       "      <th>...</th>\n",
       "      <td>...</td>\n",
       "      <td>...</td>\n",
       "      <td>...</td>\n",
       "    </tr>\n",
       "    <tr>\n",
       "      <th>145</th>\n",
       "      <td>-181.993063</td>\n",
       "      <td>-15.579540</td>\n",
       "      <td>-1.446725</td>\n",
       "    </tr>\n",
       "    <tr>\n",
       "      <th>146</th>\n",
       "      <td>-167.822917</td>\n",
       "      <td>-7.965296</td>\n",
       "      <td>-1.346717</td>\n",
       "    </tr>\n",
       "    <tr>\n",
       "      <th>147</th>\n",
       "      <td>-162.258741</td>\n",
       "      <td>-9.148570</td>\n",
       "      <td>-1.179383</td>\n",
       "    </tr>\n",
       "    <tr>\n",
       "      <th>148</th>\n",
       "      <td>-190.165926</td>\n",
       "      <td>-20.211450</td>\n",
       "      <td>-2.469821</td>\n",
       "    </tr>\n",
       "    <tr>\n",
       "      <th>149</th>\n",
       "      <td>-154.405740</td>\n",
       "      <td>-6.744187</td>\n",
       "      <td>-1.485866</td>\n",
       "    </tr>\n",
       "  </tbody>\n",
       "</table>\n",
       "<p>150 rows × 3 columns</p>\n",
       "</div>"
      ],
      "text/plain": [
       "              0          1           2\n",
       "0     -0.249208 -67.042992 -114.940093\n",
       "1     -1.016389 -54.131809 -100.844752\n",
       "2     -0.193216 -58.818569 -105.969426\n",
       "3     -1.239334 -50.479407  -96.011135\n",
       "4     -0.402727 -68.482649 -116.126469\n",
       "..          ...        ...         ...\n",
       "145 -181.993063 -15.579540   -1.446725\n",
       "146 -167.822917  -7.965296   -1.346717\n",
       "147 -162.258741  -9.148570   -1.179383\n",
       "148 -190.165926 -20.211450   -2.469821\n",
       "149 -154.405740  -6.744187   -1.485866\n",
       "\n",
       "[150 rows x 3 columns]"
      ]
     },
     "execution_count": 32,
     "metadata": {},
     "output_type": "execute_result"
    }
   ],
   "source": [
    "log_2_result"
   ]
  }
 ],
 "metadata": {
  "kernelspec": {
   "display_name": "Python 3",
   "language": "python",
   "name": "python3"
  },
  "language_info": {
   "codemirror_mode": {
    "name": "ipython",
    "version": 3
   },
   "file_extension": ".py",
   "mimetype": "text/x-python",
   "name": "python",
   "nbconvert_exporter": "python",
   "pygments_lexer": "ipython3",
   "version": "3.7.4"
  }
 },
 "nbformat": 4,
 "nbformat_minor": 4
}
